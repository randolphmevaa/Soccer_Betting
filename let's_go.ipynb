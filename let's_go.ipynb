{
 "cells": [
  {
   "cell_type": "code",
   "execution_count": 7,
   "metadata": {},
   "outputs": [
    {
     "ename": "NameError",
     "evalue": "name 'odds_data' is not defined",
     "output_type": "error",
     "traceback": [
      "\u001b[1;31m---------------------------------------------------------------------------\u001b[0m",
      "\u001b[1;31mNameError\u001b[0m                                 Traceback (most recent call last)",
      "\u001b[1;32mc:\\Users\\mevaa\\OneDrive\\Desktop\\Sport Betting\\let's_go.ipynb Cell 1\u001b[0m in \u001b[0;36m<cell line: 6>\u001b[1;34m()\u001b[0m\n\u001b[0;32m      <a href='vscode-notebook-cell:/c%3A/Users/mevaa/OneDrive/Desktop/Sport%20Betting/let%27s_go.ipynb#W0sZmlsZQ%3D%3D?line=1'>2</a>\u001b[0m \u001b[39mimport\u001b[39;00m \u001b[39mpandas\u001b[39;00m \u001b[39mas\u001b[39;00m \u001b[39mpd\u001b[39;00m\n\u001b[0;32m      <a href='vscode-notebook-cell:/c%3A/Users/mevaa/OneDrive/Desktop/Sport%20Betting/let%27s_go.ipynb#W0sZmlsZQ%3D%3D?line=3'>4</a>\u001b[0m \u001b[39m# 1. Scraping odds data\u001b[39;00m\n\u001b[0;32m      <a href='vscode-notebook-cell:/c%3A/Users/mevaa/OneDrive/Desktop/Sport%20Betting/let%27s_go.ipynb#W0sZmlsZQ%3D%3D?line=4'>5</a>\u001b[0m \u001b[39m# odds_data = requests.get(\"https://sportsodds.com/\")\u001b[39;00m\n\u001b[1;32m----> <a href='vscode-notebook-cell:/c%3A/Users/mevaa/OneDrive/Desktop/Sport%20Betting/let%27s_go.ipynb#W0sZmlsZQ%3D%3D?line=5'>6</a>\u001b[0m odds_data\u001b[39m.\u001b[39mcontent\n",
      "\u001b[1;31mNameError\u001b[0m: name 'odds_data' is not defined"
     ]
    }
   ],
   "source": [
    "import requests\n",
    "import pandas as pd\n",
    "\n",
    "# 1. Scraping odds data\n",
    "# odds_data = requests.get(\"https://sportsodds.com/\")\n",
    "odds_data.content\n",
    "\n",
    "# 2. Data preprocessing\n",
    "df = pd.DataFrame(odds_data)"
   ]
  },
  {
   "cell_type": "code",
   "execution_count": null,
   "metadata": {},
   "outputs": [],
   "source": [
    "# 3. Define betting strategy\n",
    "def betting_strategy(odds1, odds2):\n",
    "    if odds1 + odds2 < 1:\n",
    "        return True\n",
    "    return False\n",
    "\n",
    "# 4. Backtesting\n",
    "profit = 0\n",
    "for i in range(df.shape[0]):\n",
    "    odds1 = df.iloc[i][\"bookmaker1_odds\"]\n",
    "    odds2 = df.iloc[i][\"bookmaker2_odds\"]\n",
    "    if betting_strategy(odds1, odds2):\n",
    "        profit += (1 / odds1 + 1 / odds2 - 1)\n",
    "\n",
    "# 5. Implementation\n",
    "for i in range(df.shape[0]):\n",
    "    odds1 = df.iloc[i][\"bookmaker1_odds\"]\n",
    "    odds2 = df.iloc[i][\"bookmaker2_odds\"]\n",
    "    if betting_strategy(odds1, odds2):\n",
    "        # Place bet with bookmaker with best odds\n",
    "        if odds1 > odds2:\n",
    "            bookmaker = df.iloc[i][\"bookmaker1\"]\n",
    "        else:\n",
    "            bookmaker = df.iloc[i][\"bookmaker2\"]\n",
    "        # Code to place bet with bookmaker goes here\n",
    "\n",
    "# 6. Monitoring and updating\n",
    "# Continuously monitor the performance of the betting bot and update the betting strategy as necessary"
   ]
  },
  {
   "cell_type": "code",
   "execution_count": 5,
   "metadata": {},
   "outputs": [],
   "source": [
    "import pandas as pd\n",
    "import numpy as np\n",
    "import requests\n",
    "from bs4 import BeautifulSoup"
   ]
  },
  {
   "cell_type": "code",
   "execution_count": 6,
   "metadata": {},
   "outputs": [
    {
     "data": {
      "text/plain": [
       "<Response [200]>"
      ]
     },
     "execution_count": 6,
     "metadata": {},
     "output_type": "execute_result"
    }
   ],
   "source": [
    "url = 'https://www.sportsbookreview.com/betting-odds/ligue1/'\n",
    "r = requests.get(url)\n",
    "r"
   ]
  },
  {
   "attachments": {},
   "cell_type": "markdown",
   "metadata": {},
   "source": [
    "# LET'S EXTRACT TEAMS, BET ODDS AND PUT IT IN A DATAFRAME"
   ]
  },
  {
   "cell_type": "code",
   "execution_count": 7,
   "metadata": {},
   "outputs": [
    {
     "data": {
      "text/plain": [
       "[<span class=\"GameRows_participantBox__0WCRz\">Paris Saint Germain</span>,\n",
       " <span class=\"GameRows_participantBox__0WCRz\">Monaco</span>,\n",
       " <span class=\"GameRows_participantBox__0WCRz\">Marseille</span>,\n",
       " <span class=\"GameRows_participantBox__0WCRz\">Clermont Foot</span>]"
      ]
     },
     "execution_count": 7,
     "metadata": {},
     "output_type": "execute_result"
    }
   ],
   "source": [
    "# ALL BET TEAMS\n",
    "\n",
    "soup = BeautifulSoup(r.content)\n",
    "# Table = soup.find_all('div', {'id':\"tbody-ligue-1\"})[0]\n",
    "soup.find_all('span', {'class':\"GameRows_participantBox__0WCRz\"})"
   ]
  },
  {
   "cell_type": "code",
   "execution_count": 8,
   "metadata": {},
   "outputs": [
    {
     "data": {
      "text/plain": [
       "[<span class=\"GameRows_participantBox__0WCRz\">Paris Saint Germain</span>,\n",
       " <span class=\"GameRows_participantBox__0WCRz\">Monaco</span>]"
      ]
     },
     "execution_count": 8,
     "metadata": {},
     "output_type": "execute_result"
    }
   ],
   "source": [
    "# THE FIRST BET TEAMS\n",
    "soup.find_all('div', {'class':\"GameRows_threeColumns__O43n1\"})[0].find_all('span', {'class':\"GameRows_participantBox__0WCRz\"})"
   ]
  },
  {
   "cell_type": "code",
   "execution_count": 15,
   "metadata": {},
   "outputs": [
    {
     "data": {
      "text/plain": [
       "['Paris Saint Germain', 'Monaco', 'Draw', 'Marseille', 'Clermont Foot', 'Draw']"
      ]
     },
     "execution_count": 15,
     "metadata": {},
     "output_type": "execute_result"
    }
   ],
   "source": [
    "teams = soup.find_all('span', {'class':\"GameRows_participantBox__0WCRz\"})\n",
    "teams_news = []\n",
    "\n",
    "for i in range(len(teams)):\n",
    "    teams_news.append(teams[i].text)\n",
    "\n",
    "teams_news.insert(2, \"Draw\")\n",
    "teams_news.insert(5, \"Draw\")\n",
    "teams_news"
   ]
  },
  {
   "cell_type": "code",
   "execution_count": 17,
   "metadata": {},
   "outputs": [
    {
     "data": {
      "text/plain": [
       "['1', '3', ' ', '2', '0', ' ']"
      ]
     },
     "execution_count": 17,
     "metadata": {},
     "output_type": "execute_result"
    }
   ],
   "source": [
    "# ALL BET SCORES\n",
    "scores = soup.findAll('div', {\"class\":\"GameRows_scores__YkN24\"})\n",
    "scores_news = []\n",
    "\n",
    "for s in range(len(scores)):\n",
    "    scores_news.append(scores[s].text)\n",
    "\n",
    "scores_news.insert(2, \" \")\n",
    "scores_news.insert(5, \" \")\n",
    "scores_news"
   ]
  },
  {
   "cell_type": "code",
   "execution_count": 49,
   "metadata": {},
   "outputs": [],
   "source": [
    "# word = input().split()\n",
    "# word"
   ]
  },
  {
   "cell_type": "code",
   "execution_count": 54,
   "metadata": {},
   "outputs": [
    {
     "data": {
      "text/plain": [
       "['-110', '+275', '+260', '-133', '+375', '+250']"
      ]
     },
     "execution_count": 54,
     "metadata": {},
     "output_type": "execute_result"
    }
   ],
   "source": [
    "# ALL BET ODDS OPENER\n",
    "odds = soup.find_all('span', {'class':\"GameRows_opener__NivKJ\"})\n",
    "\n",
    "odds_list = []\n",
    "\n",
    "for i in range(len(odds)):\n",
    "    odds_list.append(odds[i].text)\n",
    "\n",
    "for i in odds_list:\n",
    "    if odds_list.count(i) > 1:\n",
    "        odds_list.remove(i)\n",
    "\n",
    "odds_list.remove('')\n",
    "odds_list"
   ]
  },
  {
   "cell_type": "code",
   "execution_count": 55,
   "metadata": {},
   "outputs": [
    {
     "data": {
      "text/plain": [
       "['-110', '+275', '+260', '-133', '+375', '+250']"
      ]
     },
     "execution_count": 55,
     "metadata": {},
     "output_type": "execute_result"
    }
   ],
   "source": [
    "odds_list"
   ]
  },
  {
   "cell_type": "code",
   "execution_count": 72,
   "metadata": {},
   "outputs": [
    {
     "data": {
      "text/html": [
       "<div>\n",
       "<style scoped>\n",
       "    .dataframe tbody tr th:only-of-type {\n",
       "        vertical-align: middle;\n",
       "    }\n",
       "\n",
       "    .dataframe tbody tr th {\n",
       "        vertical-align: top;\n",
       "    }\n",
       "\n",
       "    .dataframe thead th {\n",
       "        text-align: right;\n",
       "    }\n",
       "</style>\n",
       "<table border=\"1\" class=\"dataframe\">\n",
       "  <thead>\n",
       "    <tr style=\"text-align: right;\">\n",
       "      <th></th>\n",
       "      <th>teams</th>\n",
       "      <th>scores</th>\n",
       "      <th>odds</th>\n",
       "    </tr>\n",
       "  </thead>\n",
       "  <tbody>\n",
       "    <tr>\n",
       "      <th>0</th>\n",
       "      <td>Paris Saint Germain</td>\n",
       "      <td>1</td>\n",
       "      <td>-110</td>\n",
       "    </tr>\n",
       "    <tr>\n",
       "      <th>1</th>\n",
       "      <td>Monaco</td>\n",
       "      <td>3</td>\n",
       "      <td>+275</td>\n",
       "    </tr>\n",
       "    <tr>\n",
       "      <th>2</th>\n",
       "      <td>Draw</td>\n",
       "      <td></td>\n",
       "      <td>+260</td>\n",
       "    </tr>\n",
       "    <tr>\n",
       "      <th>3</th>\n",
       "      <td>Marseille</td>\n",
       "      <td>2</td>\n",
       "      <td>-133</td>\n",
       "    </tr>\n",
       "    <tr>\n",
       "      <th>4</th>\n",
       "      <td>Clermont Foot</td>\n",
       "      <td>0</td>\n",
       "      <td>+375</td>\n",
       "    </tr>\n",
       "    <tr>\n",
       "      <th>5</th>\n",
       "      <td>Draw</td>\n",
       "      <td></td>\n",
       "      <td>+250</td>\n",
       "    </tr>\n",
       "  </tbody>\n",
       "</table>\n",
       "</div>"
      ],
      "text/plain": [
       "                 teams scores  odds\n",
       "0  Paris Saint Germain      1  -110\n",
       "1               Monaco      3  +275\n",
       "2                 Draw         +260\n",
       "3            Marseille      2  -133\n",
       "4        Clermont Foot      0  +375\n",
       "5                 Draw         +250"
      ]
     },
     "execution_count": 72,
     "metadata": {},
     "output_type": "execute_result"
    }
   ],
   "source": [
    "data = {\"teams\":teams_news, \"scores\":scores_news, \"odds\":odds_list}\n",
    "pd.DataFrame(data)"
   ]
  },
  {
   "cell_type": "code",
   "execution_count": 149,
   "metadata": {},
   "outputs": [],
   "source": [
    "# list1 = soup.find_all('div', {'class':\"OddsCells_compact__cawia border-left\"})[0].find_all('span')\n",
    "# list2 = soup.find_all('div', {'class':\"OddsCells_compact__cawia border-left\"})[7].find_all('span')\n",
    "list0 = soup.find_all('div', {'class':\"OddsCells_compact__cawia border-left\"})[0].find_all('span') + soup.find_all('div', {'class':\"OddsCells_compact__cawia border-left\"})[7].find_all('span')\n",
    "# list0[ for x in list0]\n",
    "# list0[0].text\n",
    "lisst = []\n",
    "for i in range(len(list0)):\n",
    "    lisst.append(list0[i].text)"
   ]
  },
  {
   "cell_type": "code",
   "execution_count": 156,
   "metadata": {},
   "outputs": [],
   "source": [
    "# len(soup.find_all('div', {'class':\"OddsCells_compact__cawia border-left\"})[0].find_all('span'))"
   ]
  },
  {
   "cell_type": "code",
   "execution_count": 157,
   "metadata": {},
   "outputs": [
    {
     "data": {
      "text/plain": [
       "['+200', '+137', '+230', '-150', '+450', '+250']"
      ]
     },
     "execution_count": 157,
     "metadata": {},
     "output_type": "execute_result"
    }
   ],
   "source": [
    "for i in range(len(lisst)):\n",
    "    if lisst[i] == '':\n",
    "        lisst.remove(lisst[i])\n",
    "\n",
    "extra_odds = []\n",
    "for i in lisst: \n",
    "    if i not in extra_odds: \n",
    "        extra_odds.append(i)\n",
    "\n",
    "extra_odds"
   ]
  },
  {
   "attachments": {},
   "cell_type": "markdown",
   "metadata": {},
   "source": [
    "## OUR DATAFRAME"
   ]
  },
  {
   "cell_type": "code",
   "execution_count": 161,
   "metadata": {},
   "outputs": [
    {
     "data": {
      "text/html": [
       "<div>\n",
       "<style scoped>\n",
       "    .dataframe tbody tr th:only-of-type {\n",
       "        vertical-align: middle;\n",
       "    }\n",
       "\n",
       "    .dataframe tbody tr th {\n",
       "        vertical-align: top;\n",
       "    }\n",
       "\n",
       "    .dataframe thead th {\n",
       "        text-align: right;\n",
       "    }\n",
       "</style>\n",
       "<table border=\"1\" class=\"dataframe\">\n",
       "  <thead>\n",
       "    <tr style=\"text-align: right;\">\n",
       "      <th></th>\n",
       "      <th>teams</th>\n",
       "      <th>scores</th>\n",
       "      <th>opener</th>\n",
       "      <th>BET365</th>\n",
       "    </tr>\n",
       "  </thead>\n",
       "  <tbody>\n",
       "    <tr>\n",
       "      <th>0</th>\n",
       "      <td>Paris Saint Germain</td>\n",
       "      <td>1</td>\n",
       "      <td>-110</td>\n",
       "      <td>+200</td>\n",
       "    </tr>\n",
       "    <tr>\n",
       "      <th>1</th>\n",
       "      <td>Monaco</td>\n",
       "      <td>3</td>\n",
       "      <td>+275</td>\n",
       "      <td>+137</td>\n",
       "    </tr>\n",
       "    <tr>\n",
       "      <th>2</th>\n",
       "      <td>Draw</td>\n",
       "      <td></td>\n",
       "      <td>+260</td>\n",
       "      <td>+230</td>\n",
       "    </tr>\n",
       "    <tr>\n",
       "      <th>3</th>\n",
       "      <td>Marseille</td>\n",
       "      <td>2</td>\n",
       "      <td>-133</td>\n",
       "      <td>-150</td>\n",
       "    </tr>\n",
       "    <tr>\n",
       "      <th>4</th>\n",
       "      <td>Clermont Foot</td>\n",
       "      <td>0</td>\n",
       "      <td>+375</td>\n",
       "      <td>+450</td>\n",
       "    </tr>\n",
       "    <tr>\n",
       "      <th>5</th>\n",
       "      <td>Draw</td>\n",
       "      <td></td>\n",
       "      <td>+250</td>\n",
       "      <td>+250</td>\n",
       "    </tr>\n",
       "  </tbody>\n",
       "</table>\n",
       "</div>"
      ],
      "text/plain": [
       "                 teams scores opener BET365\n",
       "0  Paris Saint Germain      1   -110   +200\n",
       "1               Monaco      3   +275   +137\n",
       "2                 Draw          +260   +230\n",
       "3            Marseille      2   -133   -150\n",
       "4        Clermont Foot      0   +375   +450\n",
       "5                 Draw          +250   +250"
      ]
     },
     "execution_count": 161,
     "metadata": {},
     "output_type": "execute_result"
    }
   ],
   "source": [
    "data = {\"teams\":teams_news, \"scores\":scores_news, \"opener\":odds_list, \"BET365\":extra_odds}\n",
    "df = pd.DataFrame(data)\n",
    "df"
   ]
  },
  {
   "cell_type": "code",
   "execution_count": 180,
   "metadata": {},
   "outputs": [],
   "source": [
    "df['BET365'] = df['BET365'].astype(float)\n",
    "df['opener'] = df['opener'].astype(float)"
   ]
  },
  {
   "cell_type": "code",
   "execution_count": 187,
   "metadata": {},
   "outputs": [],
   "source": [
    "# df.to_csv('betting_odds')"
   ]
  }
 ],
 "metadata": {
  "kernelspec": {
   "display_name": "base",
   "language": "python",
   "name": "python3"
  },
  "language_info": {
   "codemirror_mode": {
    "name": "ipython",
    "version": 3
   },
   "file_extension": ".py",
   "mimetype": "text/x-python",
   "name": "python",
   "nbconvert_exporter": "python",
   "pygments_lexer": "ipython3",
   "version": "3.9.12"
  },
  "orig_nbformat": 4,
  "vscode": {
   "interpreter": {
    "hash": "46ac8282a73a47a7c94f4f58c93d7bf95a7801dfcca27efce0441eede30f5085"
   }
  }
 },
 "nbformat": 4,
 "nbformat_minor": 2
}
